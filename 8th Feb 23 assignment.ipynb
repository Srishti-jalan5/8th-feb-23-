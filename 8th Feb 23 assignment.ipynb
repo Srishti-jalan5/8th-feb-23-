{
 "cells": [
  {
   "cell_type": "code",
   "execution_count": 10,
   "id": "04b314fd-15a1-4e76-9c18-fe779cc51e86",
   "metadata": {},
   "outputs": [],
   "source": [
    "#Q1\n",
    "#Abstraction is a process of hinding original program or implimentation but sharing its methods through \n",
    "#inheritance. Abtraction prevent user to modify the original code but allow implimentation of that code in there own way.\n",
    "\n",
    "#Example\n",
    "import abc\n",
    "class customer:\n",
    "    \n",
    "    @abc.abstractmethod\n",
    "    def customer_detail(self):\n",
    "        pass\n",
    "    \n",
    "    @abc.abstractmethod\n",
    "    def customer_profile(self):\n",
    "        pass\n",
    "    \n",
    "    @abc.abstractmethod\n",
    "    def customer_requirment(self):\n",
    "        pass\n",
    "    \n",
    "class customer2(customer):\n",
    "    \n",
    "    def customer_details(self):\n",
    "        return \"This is a details of customer 2\"\n",
    "    \n",
    "    def customer_requirment(self):\n",
    "        return \"This is requirements of customer 2\""
   ]
  },
  {
   "cell_type": "code",
   "execution_count": 8,
   "id": "76991b8b-daeb-497c-98f4-cb0b0acc5df0",
   "metadata": {},
   "outputs": [
    {
     "data": {
      "text/plain": [
       "'This is a details of customer 2'"
      ]
     },
     "execution_count": 8,
     "metadata": {},
     "output_type": "execute_result"
    }
   ],
   "source": [
    "customer2 = customer2()\n",
    "customer2.customer_details()"
   ]
  },
  {
   "cell_type": "code",
   "execution_count": 11,
   "id": "59b0d25d-41ad-4e77-b7d8-4f38ba1beb57",
   "metadata": {},
   "outputs": [
    {
     "data": {
      "text/plain": [
       "'This is requirements of customer 2'"
      ]
     },
     "execution_count": 11,
     "metadata": {},
     "output_type": "execute_result"
    }
   ],
   "source": [
    "customer2 = customer2()\n",
    "customer2.customer_requirment()"
   ]
  },
  {
   "cell_type": "code",
   "execution_count": 1,
   "id": "aa36ad59-1a68-40fc-b909-c4b19bb1a226",
   "metadata": {},
   "outputs": [
    {
     "name": "stdout",
     "output_type": "stream",
     "text": [
      "Object `used` not found.\n"
     ]
    }
   ],
   "source": [
    "#Q2\n",
    "#Abstraction is hiding the details and implementation of the code.\n",
    "#Encapsulation is hiding the data and controlling the visibility of the code.\n",
    "\n",
    "Abratraction - outer layout of apple electronics.\n",
    "encapsulation - inner implimentation or working of apple electronics."
   ]
  },
  {
   "cell_type": "code",
   "execution_count": null,
   "id": "9764b11a-35ee-463b-a65c-3ce90617fbd6",
   "metadata": {},
   "outputs": [],
   "source": [
    "#Q3\n",
    "#The 'abc' module in the Python library provides the infrastructure for defining custom abstract base classes.\n",
    "#use - abc module offers the necessary tools for crafting an abstract base class."
   ]
  },
  {
   "cell_type": "code",
   "execution_count": null,
   "id": "42ca7f46-714c-4695-a7ac-c34ef1d75bcf",
   "metadata": {},
   "outputs": [],
   "source": [
    "#Q4\n",
    "Partial abstraction is achieved by having implementations with concrete methods.\n",
    "Full abstraction is achieved using interfaces with abstract types that specify a class' behavior"
   ]
  },
  {
   "cell_type": "code",
   "execution_count": null,
   "id": "675b1cf4-0062-44e5-aef5-a4919b298b60",
   "metadata": {},
   "outputs": [],
   "source": [
    "#Q5\n",
    "#Can we create an instance of an abstract class by using abc modul"
   ]
  }
 ],
 "metadata": {
  "kernelspec": {
   "display_name": "Python 3 (ipykernel)",
   "language": "python",
   "name": "python3"
  },
  "language_info": {
   "codemirror_mode": {
    "name": "ipython",
    "version": 3
   },
   "file_extension": ".py",
   "mimetype": "text/x-python",
   "name": "python",
   "nbconvert_exporter": "python",
   "pygments_lexer": "ipython3",
   "version": "3.10.8"
  }
 },
 "nbformat": 4,
 "nbformat_minor": 5
}
